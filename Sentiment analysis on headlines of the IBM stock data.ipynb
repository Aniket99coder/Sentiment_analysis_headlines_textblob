{
 "cells": [
  {
   "cell_type": "markdown",
   "metadata": {},
   "source": [
    "#  Step 1: Pulling out headlines from Stock news API tickertick\n",
    "Importing the packages required "
   ]
  },
  {
   "cell_type": "code",
   "execution_count": 1,
   "metadata": {},
   "outputs": [],
   "source": [
    "import requests\n",
    "import json\n",
    "from bs4 import BeautifulSoup"
   ]
  },
  {
   "cell_type": "markdown",
   "metadata": {},
   "source": [
    "### Loading news headlines data from the API in json format"
   ]
  },
  {
   "cell_type": "markdown",
   "metadata": {},
   "source": [
    "<article class=\"markdown-body entry-content\" itemprop=\"text\"><h2><a id=\"user-content-introduction\" class=\"anchor\" aria-hidden=\"true\" href=\"#introduction\"><svg class=\"octicon octicon-link\" viewBox=\"0 0 16 16\" version=\"1.1\" width=\"16\" height=\"16\" aria-hidden=\"true\"><path fill-rule=\"evenodd\" d=\"M4 9h1v1H4c-1.5 0-3-1.69-3-3.5S2.55 3 4 3h4c1.45 0 3 1.69 3 3.5 0 1.41-.91 2.72-2 3.25V8.59c.58-.45 1-1.27 1-2.09C10 5.22 8.98 4 8 4H4c-.98 0-2 1.22-2 2.5S3 9 4 9zm9-3h-1v1h1c1 0 2 1.22 2 2.5S13.98 12 13 12H9c-.98 0-2-1.22-2-2.5 0-.83.42-1.64 1-2.09V6.25c-1.09.53-2 1.84-2 3.25C6 11.31 7.55 13 9 13h4c1.45 0 3-1.69 3-3.5S14.5 6 13 6z\"></path></svg></a>Introduction</h2>\n",
    "\n",
    "<p>All requests to the TickerTick API are made via GET to <code>https://api.tickertick.com/</code>.</p>\n",
    "<p>Below are the available endpoints:</p>\n",
    "<h2><a id=\"user-content-get-stock-news-feed-api\" class=\"anchor\" aria-hidden=\"true\" href=\"#get-stock-news-feed-api\"><svg class=\"octicon octicon-link\" viewBox=\"0 0 16 16\" version=\"1.1\" width=\"16\" height=\"16\" aria-hidden=\"true\"><path fill-rule=\"evenodd\" d=\"M4 9h1v1H4c-1.5 0-3-1.69-3-3.5S2.55 3 4 3h4c1.45 0 3 1.69 3 3.5 0 1.41-.91 2.72-2 3.25V8.59c.58-.45 1-1.27 1-2.09C10 5.22 8.98 4 8 4H4c-.98 0-2 1.22-2 2.5S3 9 4 9zm9-3h-1v1h1c1 0 2 1.22 2 2.5S13.98 12 13 12H9c-.98 0-2-1.22-2-2.5 0-.83.42-1.64 1-2.09V6.25c-1.09.53-2 1.84-2 3.25C6 11.31 7.55 13 9 13h4c1.45 0 3-1.69 3-3.5S14.5 6 13 6z\"></path></svg></a>Get stock news feed API</h2>\n",
    "<p>This API returns a feed of the lastest news stories relevant to the query in reverse chronological order.</p>\n",
    "<h3><a id=\"user-content-endpoint\" class=\"anchor\" aria-hidden=\"true\" href=\"#endpoint\"><svg class=\"octicon octicon-link\" viewBox=\"0 0 16 16\" version=\"1.1\" width=\"16\" height=\"16\" aria-hidden=\"true\"><path fill-rule=\"evenodd\" d=\"M4 9h1v1H4c-1.5 0-3-1.69-3-3.5S2.55 3 4 3h4c1.45 0 3 1.69 3 3.5 0 1.41-.91 2.72-2 3.25V8.59c.58-.45 1-1.27 1-2.09C10 5.22 8.98 4 8 4H4c-.98 0-2 1.22-2 2.5S3 9 4 9zm9-3h-1v1h1c1 0 2 1.22 2 2.5S13.98 12 13 12H9c-.98 0-2-1.22-2-2.5 0-.83.42-1.64 1-2.09V6.25c-1.09.53-2 1.84-2 3.25C6 11.31 7.55 13 9 13h4c1.45 0 3-1.69 3-3.5S14.5 6 13 6z\"></path></svg></a>Endpoint</h3>\n",
    "<p><code>GET</code> <a href=\"https://api.tickertick.com/feed\" rel=\"nofollow\">https://api.tickertick.com/feed</a></p>\n",
    "<h3><a id=\"user-content-example-request-url\" class=\"anchor\" aria-hidden=\"true\" href=\"#example-request-url\"><svg class=\"octicon octicon-link\" viewBox=\"0 0 16 16\" version=\"1.1\" width=\"16\" height=\"16\" aria-hidden=\"true\"><path fill-rule=\"evenodd\" d=\"M4 9h1v1H4c-1.5 0-3-1.69-3-3.5S2.55 3 4 3h4c1.45 0 3 1.69 3 3.5 0 1.41-.91 2.72-2 3.25V8.59c.58-.45 1-1.27 1-2.09C10 5.22 8.98 4 8 4H4c-.98 0-2 1.22-2 2.5S3 9 4 9zm9-3h-1v1h1c1 0 2 1.22 2 2.5S13.98 12 13 12H9c-.98 0-2-1.22-2-2.5 0-.83.42-1.64 1-2.09V6.25c-1.09.53-2 1.84-2 3.25C6 11.31 7.55 13 9 13h4c1.45 0 3-1.69 3-3.5S14.5 6 13 6z\"></path></svg></a>Example request URL</h3>\n",
    "<p>Stock news feed for Apple Inc. - <a href=\"https://api.tickertick.com/feed?q=f3:aapl&amp;lang=en\" rel=\"nofollow\">https://api.tickertick.com/feed?q=f3:aapl&amp;lang=en</a></p>\n",
    "<p><a href=\"https://tickertick.netlify.com/?q=AAPL\" rel=\"nofollow\">Rendered stock news feed for Apple Inc.</a></p>\n",
    "<h3><a id=\"user-content-parameters\" class=\"anchor\" aria-hidden=\"true\" href=\"#parameters\"><svg class=\"octicon octicon-link\" viewBox=\"0 0 16 16\" version=\"1.1\" width=\"16\" height=\"16\" aria-hidden=\"true\"><path fill-rule=\"evenodd\" d=\"M4 9h1v1H4c-1.5 0-3-1.69-3-3.5S2.55 3 4 3h4c1.45 0 3 1.69 3 3.5 0 1.41-.91 2.72-2 3.25V8.59c.58-.45 1-1.27 1-2.09C10 5.22 8.98 4 8 4H4c-.98 0-2 1.22-2 2.5S3 9 4 9zm9-3h-1v1h1c1 0 2 1.22 2 2.5S13.98 12 13 12H9c-.98 0-2-1.22-2-2.5 0-.83.42-1.64 1-2.09V6.25c-1.09.53-2 1.84-2 3.25C6 11.31 7.55 13 9 13h4c1.45 0 3-1.69 3-3.5S14.5 6 13 6z\"></path></svg></a>Parameters</h3>\n",
    "<table>\n",
    "<thead>\n",
    "<tr>\n",
    "<th>Parameter</th>\n",
    "<th>Description</th>\n",
    "<th>Options</th>\n",
    "<th>Example value</th>\n",
    "</tr>\n",
    "</thead>\n",
    "<tbody>\n",
    "<tr>\n",
    "<td>q</td>\n",
    "<td>The query string</td>\n",
    "<td>Any query string in a query language<br>(explained below)</td>\n",
    "<td><code>f3:aapl</code></td>\n",
    "</tr>\n",
    "<tr>\n",
    "<td>lang</td>\n",
    "<td>The language of the returned news stories</td>\n",
    "<td>en: English<br>cn: Chinese<br>en,cn: Both</td>\n",
    "<td><code>en,cn</code></td>\n",
    "</tr>\n",
    "<tr>\n",
    "<td>n</td>\n",
    "<td>How many latest news stories to fetch</td>\n",
    "<td>Any number between 1 and 1000</td>\n",
    "<td><code>42</code></td>\n",
    "</tr>\n",
    "<tr>\n",
    "<td>last</td>\n",
    "<td>A story id for pagination.<br>Fetch news stories older than the story with this id.</td>\n",
    "<td>A 64 bit integer. Each returned news story has such an id.</td>\n",
    "<td><code>6844326865886118959</code></td>\n",
    "</tr>\n",
    "</tbody>\n",
    "</table>\n",
    "<h3><a id=\"user-content-the-query-language\" class=\"anchor\" aria-hidden=\"true\" href=\"#the-query-language\"><svg class=\"octicon octicon-link\" viewBox=\"0 0 16 16\" version=\"1.1\" width=\"16\" height=\"16\" aria-hidden=\"true\"><path fill-rule=\"evenodd\" d=\"M4 9h1v1H4c-1.5 0-3-1.69-3-3.5S2.55 3 4 3h4c1.45 0 3 1.69 3 3.5 0 1.41-.91 2.72-2 3.25V8.59c.58-.45 1-1.27 1-2.09C10 5.22 8.98 4 8 4H4c-.98 0-2 1.22-2 2.5S3 9 4 9zm9-3h-1v1h1c1 0 2 1.22 2 2.5S13.98 12 13 12H9c-.98 0-2-1.22-2-2.5 0-.83.42-1.64 1-2.09V6.25c-1.09.53-2 1.84-2 3.25C6 11.31 7.55 13 9 13h4c1.45 0 3-1.69 3-3.5S14.5 6 13 6z\"></path></svg></a>The query language</h3>\n",
    "<p>The query language is a <a href=\"https://en.wikipedia.org/wiki/Context-free_language\" rel=\"nofollow\">Context free language</a> following the grammar below</p>\n",
    "<pre><code>query =&gt; term | (and query_list) | (or query_list) | (diff query query)\n",
    "\n",
    "query_list =&gt; query query_list | term\n",
    "\n",
    "term =&gt; f_term:any_stock_ticker | tx:any_string | s:any_website_domain_name\n",
    "\n",
    "f_term =&gt; f0 | f1 | f2 | f3\n",
    "\n",
    "</code></pre>\n",
    "<h3><a id=\"user-content-operator-semantics\" class=\"anchor\" aria-hidden=\"true\" href=\"#operator-semantics\"><svg class=\"octicon octicon-link\" viewBox=\"0 0 16 16\" version=\"1.1\" width=\"16\" height=\"16\" aria-hidden=\"true\"><path fill-rule=\"evenodd\" d=\"M4 9h1v1H4c-1.5 0-3-1.69-3-3.5S2.55 3 4 3h4c1.45 0 3 1.69 3 3.5 0 1.41-.91 2.72-2 3.25V8.59c.58-.45 1-1.27 1-2.09C10 5.22 8.98 4 8 4H4c-.98 0-2 1.22-2 2.5S3 9 4 9zm9-3h-1v1h1c1 0 2 1.22 2 2.5S13.98 12 13 12H9c-.98 0-2-1.22-2-2.5 0-.83.42-1.64 1-2.09V6.25c-1.09.53-2 1.84-2 3.25C6 11.31 7.55 13 9 13h4c1.45 0 3-1.69 3-3.5S14.5 6 13 6z\"></path></svg></a>Operator semantics</h3>\n",
    "<table>\n",
    "<thead>\n",
    "<tr>\n",
    "<th>operator</th>\n",
    "<th>semantics</th>\n",
    "</tr>\n",
    "</thead>\n",
    "<tbody>\n",
    "<tr>\n",
    "<td><code>(and query_list)</code></td>\n",
    "<td>request news stories matching all queries in <code>query_list</code></td>\n",
    "</tr>\n",
    "<tr>\n",
    "<td><code>(or query_list)</code></td>\n",
    "<td>request news stories matching any query in <code>query_list</code></td>\n",
    "</tr>\n",
    "<tr>\n",
    "<td><code>(diff query1 query2)</code></td>\n",
    "<td>request news stories matching <code>query1</code> but not <code>query2</code></td>\n",
    "</tr>\n",
    "</tbody>\n",
    "</table>\n",
    "<h3><a id=\"user-content-term-semantics\" class=\"anchor\" aria-hidden=\"true\" href=\"#term-semantics\"><svg class=\"octicon octicon-link\" viewBox=\"0 0 16 16\" version=\"1.1\" width=\"16\" height=\"16\" aria-hidden=\"true\"><path fill-rule=\"evenodd\" d=\"M4 9h1v1H4c-1.5 0-3-1.69-3-3.5S2.55 3 4 3h4c1.45 0 3 1.69 3 3.5 0 1.41-.91 2.72-2 3.25V8.59c.58-.45 1-1.27 1-2.09C10 5.22 8.98 4 8 4H4c-.98 0-2 1.22-2 2.5S3 9 4 9zm9-3h-1v1h1c1 0 2 1.22 2 2.5S13.98 12 13 12H9c-.98 0-2-1.22-2-2.5 0-.83.42-1.64 1-2.09V6.25c-1.09.53-2 1.84-2 3.25C6 11.31 7.55 13 9 13h4c1.45 0 3-1.69 3-3.5S14.5 6 13 6z\"></path></svg></a>Term semantics</h3>\n",
    "<table>\n",
    "<thead>\n",
    "<tr>\n",
    "<th>term</th>\n",
    "<th>semantics</th>\n",
    "</tr>\n",
    "</thead>\n",
    "<tbody>\n",
    "<tr>\n",
    "<td><code>f0:stock_ticker</code></td>\n",
    "<td>Request company filings only about <code>stock_ticker</code></td>\n",
    "</tr>\n",
    "<tr>\n",
    "<td><code>f1:stock_ticker</code></td>\n",
    "<td>Request most relevant stories about <code>stock_ticker</code></td>\n",
    "</tr>\n",
    "<tr>\n",
    "<td><code>f2:stock_ticker</code></td>\n",
    "<td>Request most relevant and medium relevant stories about <code>stock_ticker</code></td>\n",
    "</tr>\n",
    "<tr>\n",
    "<td><code>f3:stock_ticker</code></td>\n",
    "<td>Request all stories about <code>stock_ticker</code></td>\n",
    "</tr>\n",
    "<tr>\n",
    "<td><code>tx:any_string</code></td>\n",
    "<td>request news story matching text <code>any_string</code>. <br> (<code>any_string</code> can have whitespaces)</td>\n",
    "</tr>\n",
    "<tr>\n",
    "<td><code>s:domain_name</code></td>\n",
    "<td>request news story from websites on domain <code>domain_name</code> <br> (<code>domain_name</code> shouldn't contain '.' or '/')</td>\n",
    "</tr>\n",
    "</tbody>\n",
    "</table>\n",
    "<h3><a id=\"user-content-example-queries\" class=\"anchor\" aria-hidden=\"true\" href=\"#example-queries\"><svg class=\"octicon octicon-link\" viewBox=\"0 0 16 16\" version=\"1.1\" width=\"16\" height=\"16\" aria-hidden=\"true\"><path fill-rule=\"evenodd\" d=\"M4 9h1v1H4c-1.5 0-3-1.69-3-3.5S2.55 3 4 3h4c1.45 0 3 1.69 3 3.5 0 1.41-.91 2.72-2 3.25V8.59c.58-.45 1-1.27 1-2.09C10 5.22 8.98 4 8 4H4c-.98 0-2 1.22-2 2.5S3 9 4 9zm9-3h-1v1h1c1 0 2 1.22 2 2.5S13.98 12 13 12H9c-.98 0-2-1.22-2-2.5 0-.83.42-1.64 1-2.09V6.25c-1.09.53-2 1.84-2 3.25C6 11.31 7.55 13 9 13h4c1.45 0 3-1.69 3-3.5S14.5 6 13 6z\"></path></svg></a>Example queries</h3>\n",
    "<table>\n",
    "<thead>\n",
    "<tr>\n",
    "<th>Example query</th>\n",
    "<th>Semantics</th>\n",
    "<th>URL</th>\n",
    "</tr>\n",
    "</thead>\n",
    "<tbody>\n",
    "<tr>\n",
    "<td><code>f0:aapl</code></td>\n",
    "<td>Relevant level 0 news stories about Apple Inc. (ticker: aapl)</td>\n",
    "<td><a href=\"https://api.tickertick.com/feed?q=f0:aapl\" rel=\"nofollow\">https://api.tickertick.com/feed?q=f0:aapl</a></td>\n",
    "</tr>\n",
    "<tr>\n",
    "<td><code>(or f3:fb f3:amzn f3:nflx f3:goog)</code></td>\n",
    "<td>Relevant level 3 news stories about <a href=\"https://www.investopedia.com/terms/f/fang-stocks-fb-amzn.asp\" rel=\"nofollow\">FANG stocks</a></td>\n",
    "<td><a href=\"https://api.tickertick.com/feed?q=(or%20f3:fb%20f3:amzn%20f3:nflx%20f3:goog)\" rel=\"nofollow\">https://api.tickertick.com/feed?q=(or%20f3:fb%20f3:amzn%20f3:nflx%20f3:goog)</a></td>\n",
    "</tr>\n",
    "<tr>\n",
    "<td><code>(diff tx:elon musk s:nytimes)</code></td>\n",
    "<td>Stories about Elon Musk not from NY times</td>\n",
    "<td><a href=\"https://api.tickertick.com/feed?q=(diff%20tx:elon%20musk%20s:nytimes)\" rel=\"nofollow\">https://api.tickertick.com/feed?q=(diff%20tx:elon%20musk%20s:nytimes)</a></td>\n",
    "</tr>\n",
    "</tbody>\n",
    "</table>\n",
    "<h3><a id=\"user-content-the-returned-news-stories\" class=\"anchor\" aria-hidden=\"true\" href=\"#the-returned-news-stories\"><svg class=\"octicon octicon-link\" viewBox=\"0 0 16 16\" version=\"1.1\" width=\"16\" height=\"16\" aria-hidden=\"true\"><path fill-rule=\"evenodd\" d=\"M4 9h1v1H4c-1.5 0-3-1.69-3-3.5S2.55 3 4 3h4c1.45 0 3 1.69 3 3.5 0 1.41-.91 2.72-2 3.25V8.59c.58-.45 1-1.27 1-2.09C10 5.22 8.98 4 8 4H4c-.98 0-2 1.22-2 2.5S3 9 4 9zm9-3h-1v1h1c1 0 2 1.22 2 2.5S13.98 12 13 12H9c-.98 0-2-1.22-2-2.5 0-.83.42-1.64 1-2.09V6.25c-1.09.53-2 1.84-2 3.25C6 11.31 7.55 13 9 13h4c1.45 0 3-1.69 3-3.5S14.5 6 13 6z\"></path></svg></a>The returned news stories</h3>\n",
    "<p>The returned news stories are in a JSON string. The example from URL <a href=\"https://api.tickertick.com/feed?q=f3:aapl&amp;lang=en&amp;n=2\" rel=\"nofollow\">https://api.tickertick.com/feed?q=f3:aapl&amp;lang=en&amp;n=2</a></p>\n",
    "<pre><code>{\n",
    "  \"stories\": [\n",
    "    {\n",
    "      \"id\": \"-6182621638785416990\",\n",
    "      \"title\": \"‘The time is now to have a federal privacy bill,’ says Tim Cook\",\n",
    "      \"url\": \"https://www.theverge.com/2019/11/22/20978140/tim-cook-apple-federal-privacy-bill-facebook-breakup-big-tech\",\n",
    "      \"site\": \"www.theverge.com\",\n",
    "      \"time\": 1574547739000,\n",
    "      \"favicon_url\": \"https://cdn.vox-cdn.com/uploads/chorus_asset/file/7395351/android-chrome-192x192.0.png\"\n",
    "    },\n",
    "    {\n",
    "      \"id\": \"-3255988935767362050\",\n",
    "      \"title\": \"Email App Maker Begs Apple CEO to Get Back on the App Store Author: Julian Chokkattu Julian Chokkattu\",\n",
    "      \"url\": \"https://www.wired.com/story/bluemail-developers-write-open-letter-to-apple-mac-app-store/\",\n",
    "      \"site\": \"www.wired.com\",\n",
    "      \"time\": 1574547739000,\n",
    "      \"favicon_url\": \"https://www.wired.com/images/logos/w-icon-512x512.png\"\n",
    "    },\n",
    "    {\n",
    "      \"id\": \"4112141090713067885\",\n",
    "      \"title\": \"NYU professor Scott Galloway: Disney+ and Apple TV+ will be the winners of the streaming wars\",\n",
    "      \"url\": \"https://www.businessinsider.com/nyu-professor-scott-galloway-disney-plus-apple-tv-streaming-wars-2019-11\",\n",
    "      \"site\": \"www.businessinsider.com\",\n",
    "      \"time\": 1574547739000,\n",
    "      \"favicon_url\": \"http://static.businessinsider.de/assets/images/de/favicons/android-chrome-512x512.png\"\n",
    "    },\n",
    "  ]\n",
    "}\n",
    "\n",
    "</code></pre>\n",
    "<table>\n",
    "<thead>\n",
    "<tr>\n",
    "<th>Story field</th>\n",
    "<th>Description</th>\n",
    "</tr>\n",
    "</thead>\n",
    "<tbody>\n",
    "<tr>\n",
    "<td><code>id</code></td>\n",
    "<td>A unique string id of the story. The <code>id</code> can be used for pagination as the value of parameter <code>last</code>.</td>\n",
    "</tr>\n",
    "<tr>\n",
    "<td><code>title</code></td>\n",
    "<td>The title of the news story in HTML format.</td>\n",
    "</tr>\n",
    "<tr>\n",
    "<td><code>url</code></td>\n",
    "<td>The url of the news story.</td>\n",
    "</tr>\n",
    "<tr>\n",
    "<td><code>site</code></td>\n",
    "<td>The source website of the news story.</td>\n",
    "</tr>\n",
    "<tr>\n",
    "<td><code>time</code></td>\n",
    "<td>The timestamp of the news story. The same semantics as <code>Date.now()</code> in Javascript.</td>\n",
    "</tr>\n",
    "<tr>\n",
    "<td><code>favicon_url</code></td>\n",
    "<td>The url of the favicon of the source website.</td>\n",
    "</tr>\n",
    "</tbody>\n",
    "</table>\n",
    "<h3><a id=\"user-content-top-news-source-websites\" class=\"anchor\" aria-hidden=\"true\" href=\"#top-news-source-websites\"><svg class=\"octicon octicon-link\" viewBox=\"0 0 16 16\" version=\"1.1\" width=\"16\" height=\"16\" aria-hidden=\"true\"><path fill-rule=\"evenodd\" d=\"M4 9h1v1H4c-1.5 0-3-1.69-3-3.5S2.55 3 4 3h4c1.45 0 3 1.69 3 3.5 0 1.41-.91 2.72-2 3.25V8.59c.58-.45 1-1.27 1-2.09C10 5.22 8.98 4 8 4H4c-.98 0-2 1.22-2 2.5S3 9 4 9zm9-3h-1v1h1c1 0 2 1.22 2 2.5S13.98 12 13 12H9c-.98 0-2-1.22-2-2.5 0-.83.42-1.64 1-2.09V6.25c-1.09.53-2 1.84-2 3.25C6 11.31 7.55 13 9 13h4c1.45 0 3-1.69 3-3.5S14.5 6 13 6z\"></path></svg>\n",
    "\n",
    "</article>"
   ]
  },
  {
   "cell_type": "markdown",
   "metadata": {},
   "source": [
    "## Writing the query for our project\n",
    "For getting :<br> </br>\n",
    "All the news with text IBM i.e **tx:ibm** and in english **lang=en and**  getting 342 headlines **n=342** \n",
    "<br></br>Also we do not want any news from sec.gov so using **diff**\n",
    " <br></br>**final query :** *q=(diff%20tx:ibm%20s:sec.gov)&lang=en&n=342)*"
   ]
  },
  {
   "cell_type": "code",
   "execution_count": 2,
   "metadata": {},
   "outputs": [],
   "source": [
    "# Use requests library to get the JSON data\n",
    "JSONDATA = requests.request(\"GET\", \"https://api.tickertick.com/feed?q=(diff%20tx:ibm%20s:sec.gov)&lang=en&n=342\") #Make sure you include the http part\n",
    "# Load it with JSON \n",
    "data= JSONDATA.json()"
   ]
  },
  {
   "cell_type": "markdown",
   "metadata": {},
   "source": [
    "### Writing the json data in a csv file named \"ibm_342_headlines.csv\""
   ]
  },
  {
   "cell_type": "code",
   "execution_count": 4,
   "metadata": {},
   "outputs": [],
   "source": [
    "#opening a file\n",
    "file_name=\"ibm_342_headlines.csv\"\n",
    "f=open(file_name,\"w\")\n",
    "headers=\"headline,site,timestamp\\n\"\n",
    "\n",
    "#Writing into a csv file\n",
    "f.write(headers)\n",
    "diff_news=data['stories']\n",
    "for news in diff_news:\n",
    "    headline=news['title']\n",
    "    site=news['site']\n",
    "    timestamp=news['time']\n",
    "    f.write(headline.replace(\",\",\"|\") +\",\" +site.replace(\",\",\"|\") +\",\" + str(timestamp) +\"\\n\")\n",
    "f.close()"
   ]
  },
  {
   "cell_type": "markdown",
   "metadata": {},
   "source": [
    "### Manipulating the data extracted in the csv file \n",
    "Importing the required packages first "
   ]
  },
  {
   "cell_type": "code",
   "execution_count": 5,
   "metadata": {},
   "outputs": [],
   "source": [
    "import pandas as pd\n",
    "import csv\n",
    "from textblob import TextBlob\n",
    "import datetime"
   ]
  },
  {
   "cell_type": "code",
   "execution_count": 7,
   "metadata": {},
   "outputs": [
    {
     "data": {
      "text/html": [
       "<div>\n",
       "<style scoped>\n",
       "    .dataframe tbody tr th:only-of-type {\n",
       "        vertical-align: middle;\n",
       "    }\n",
       "\n",
       "    .dataframe tbody tr th {\n",
       "        vertical-align: top;\n",
       "    }\n",
       "\n",
       "    .dataframe thead th {\n",
       "        text-align: right;\n",
       "    }\n",
       "</style>\n",
       "<table border=\"1\" class=\"dataframe\">\n",
       "  <thead>\n",
       "    <tr style=\"text-align: right;\">\n",
       "      <th></th>\n",
       "      <th>headline</th>\n",
       "      <th>site</th>\n",
       "      <th>timestamp</th>\n",
       "    </tr>\n",
       "  </thead>\n",
       "  <tbody>\n",
       "    <tr>\n",
       "      <th>0</th>\n",
       "      <td>IBM Business Partner Evanston Technology Partn...</td>\n",
       "      <td>www.biospace.com</td>\n",
       "      <td>1587697798000</td>\n",
       "    </tr>\n",
       "    <tr>\n",
       "      <th>1</th>\n",
       "      <td>IBM First-Quarter Sales Decline as New CEO Aim...</td>\n",
       "      <td>www.wsj.com</td>\n",
       "      <td>1587513243000</td>\n",
       "    </tr>\n",
       "    <tr>\n",
       "      <th>2</th>\n",
       "      <td>IBM Reports Solid Profit but Won’t Forecast th...</td>\n",
       "      <td>www.barrons.com</td>\n",
       "      <td>1587463033000</td>\n",
       "    </tr>\n",
       "    <tr>\n",
       "      <th>3</th>\n",
       "      <td>IBM reports Q1 revenue of $17.6B| down 3.4% Yo...</td>\n",
       "      <td>www.cnbc.com</td>\n",
       "      <td>1587414820000</td>\n",
       "    </tr>\n",
       "    <tr>\n",
       "      <th>4</th>\n",
       "      <td>Nestlé Expands Use Of IBM Food Trust Blockchai...</td>\n",
       "      <td>www.forbes.com</td>\n",
       "      <td>1587248634000</td>\n",
       "    </tr>\n",
       "  </tbody>\n",
       "</table>\n",
       "</div>"
      ],
      "text/plain": [
       "                                            headline              site  \\\n",
       "0  IBM Business Partner Evanston Technology Partn...  www.biospace.com   \n",
       "1  IBM First-Quarter Sales Decline as New CEO Aim...       www.wsj.com   \n",
       "2  IBM Reports Solid Profit but Won’t Forecast th...   www.barrons.com   \n",
       "3  IBM reports Q1 revenue of $17.6B| down 3.4% Yo...      www.cnbc.com   \n",
       "4  Nestlé Expands Use Of IBM Food Trust Blockchai...    www.forbes.com   \n",
       "\n",
       "       timestamp  \n",
       "0  1587697798000  \n",
       "1  1587513243000  \n",
       "2  1587463033000  \n",
       "3  1587414820000  \n",
       "4  1587248634000  "
      ]
     },
     "execution_count": 7,
     "metadata": {},
     "output_type": "execute_result"
    }
   ],
   "source": [
    "df=pd.read_csv(\"ibm_342_headlines.csv\",sep=',',engine='python')\n",
    "df.head()"
   ]
  },
  {
   "cell_type": "markdown",
   "metadata": {},
   "source": [
    "### Changing the date column and filtering data by the start and the end days "
   ]
  },
  {
   "cell_type": "code",
   "execution_count": 8,
   "metadata": {},
   "outputs": [],
   "source": [
    "df['Date']=df.apply(lambda x:datetime.datetime.fromtimestamp(x['timestamp']/1000).date(),axis=1)\n",
    "\n",
    "#Filtering the headlines for a required period \n",
    "from datetime import datetime\n",
    "start_date = datetime.strptime(\"2019-08-26\",'%Y-%m-%d').date()\n",
    "end_date = datetime.strptime(\"2020-04-24\",'%Y-%m-%d').date()\n",
    "\n",
    "after_start_date = df[\"Date\"] >= start_date\n",
    "before_end_date = df[\"Date\"] <= end_date\n",
    "between_two_dates = after_start_date & before_end_date\n",
    "df = df.loc[between_two_dates] #dataframe with filtered dates"
   ]
  },
  {
   "cell_type": "code",
   "execution_count": 9,
   "metadata": {},
   "outputs": [
    {
     "data": {
      "text/html": [
       "<div>\n",
       "<style scoped>\n",
       "    .dataframe tbody tr th:only-of-type {\n",
       "        vertical-align: middle;\n",
       "    }\n",
       "\n",
       "    .dataframe tbody tr th {\n",
       "        vertical-align: top;\n",
       "    }\n",
       "\n",
       "    .dataframe thead th {\n",
       "        text-align: right;\n",
       "    }\n",
       "</style>\n",
       "<table border=\"1\" class=\"dataframe\">\n",
       "  <thead>\n",
       "    <tr style=\"text-align: right;\">\n",
       "      <th></th>\n",
       "      <th>headline</th>\n",
       "      <th>site</th>\n",
       "      <th>timestamp</th>\n",
       "      <th>Date</th>\n",
       "    </tr>\n",
       "  </thead>\n",
       "  <tbody>\n",
       "    <tr>\n",
       "      <th>0</th>\n",
       "      <td>IBM Business Partner Evanston Technology Partn...</td>\n",
       "      <td>www.biospace.com</td>\n",
       "      <td>1587697798000</td>\n",
       "      <td>2020-04-24</td>\n",
       "    </tr>\n",
       "    <tr>\n",
       "      <th>1</th>\n",
       "      <td>IBM First-Quarter Sales Decline as New CEO Aim...</td>\n",
       "      <td>www.wsj.com</td>\n",
       "      <td>1587513243000</td>\n",
       "      <td>2020-04-22</td>\n",
       "    </tr>\n",
       "    <tr>\n",
       "      <th>2</th>\n",
       "      <td>IBM Reports Solid Profit but Won’t Forecast th...</td>\n",
       "      <td>www.barrons.com</td>\n",
       "      <td>1587463033000</td>\n",
       "      <td>2020-04-21</td>\n",
       "    </tr>\n",
       "    <tr>\n",
       "      <th>3</th>\n",
       "      <td>IBM reports Q1 revenue of $17.6B| down 3.4% Yo...</td>\n",
       "      <td>www.cnbc.com</td>\n",
       "      <td>1587414820000</td>\n",
       "      <td>2020-04-21</td>\n",
       "    </tr>\n",
       "    <tr>\n",
       "      <th>4</th>\n",
       "      <td>Nestlé Expands Use Of IBM Food Trust Blockchai...</td>\n",
       "      <td>www.forbes.com</td>\n",
       "      <td>1587248634000</td>\n",
       "      <td>2020-04-19</td>\n",
       "    </tr>\n",
       "  </tbody>\n",
       "</table>\n",
       "</div>"
      ],
      "text/plain": [
       "                                            headline              site  \\\n",
       "0  IBM Business Partner Evanston Technology Partn...  www.biospace.com   \n",
       "1  IBM First-Quarter Sales Decline as New CEO Aim...       www.wsj.com   \n",
       "2  IBM Reports Solid Profit but Won’t Forecast th...   www.barrons.com   \n",
       "3  IBM reports Q1 revenue of $17.6B| down 3.4% Yo...      www.cnbc.com   \n",
       "4  Nestlé Expands Use Of IBM Food Trust Blockchai...    www.forbes.com   \n",
       "\n",
       "       timestamp        Date  \n",
       "0  1587697798000  2020-04-24  \n",
       "1  1587513243000  2020-04-22  \n",
       "2  1587463033000  2020-04-21  \n",
       "3  1587414820000  2020-04-21  \n",
       "4  1587248634000  2020-04-19  "
      ]
     },
     "execution_count": 9,
     "metadata": {},
     "output_type": "execute_result"
    }
   ],
   "source": [
    "df.head()"
   ]
  },
  {
   "cell_type": "markdown",
   "metadata": {},
   "source": [
    "### Adding features : polarity and subjectivity of each headline using textblob library of NLP\n",
    "Adding features like polarity , subjectivity and dropping the column timestamp from the dataset"
   ]
  },
  {
   "cell_type": "code",
   "execution_count": 10,
   "metadata": {},
   "outputs": [],
   "source": [
    "df['polarity']=df.apply(lambda x:TextBlob(x['headline']).sentiment.polarity,axis=1)\n",
    "df['subjectivity']=df.apply(lambda x:TextBlob(x['headline']).sentiment.subjectivity,axis=1)\n",
    "df.drop(['timestamp'],axis=1,inplace=True)"
   ]
  },
  {
   "cell_type": "markdown",
   "metadata": {},
   "source": [
    "Last five headlines of the data extracted"
   ]
  },
  {
   "cell_type": "code",
   "execution_count": 11,
   "metadata": {},
   "outputs": [
    {
     "data": {
      "text/html": [
       "<div>\n",
       "<style scoped>\n",
       "    .dataframe tbody tr th:only-of-type {\n",
       "        vertical-align: middle;\n",
       "    }\n",
       "\n",
       "    .dataframe tbody tr th {\n",
       "        vertical-align: top;\n",
       "    }\n",
       "\n",
       "    .dataframe thead th {\n",
       "        text-align: right;\n",
       "    }\n",
       "</style>\n",
       "<table border=\"1\" class=\"dataframe\">\n",
       "  <thead>\n",
       "    <tr style=\"text-align: right;\">\n",
       "      <th></th>\n",
       "      <th>headline</th>\n",
       "      <th>site</th>\n",
       "      <th>Date</th>\n",
       "      <th>polarity</th>\n",
       "      <th>subjectivity</th>\n",
       "    </tr>\n",
       "  </thead>\n",
       "  <tbody>\n",
       "    <tr>\n",
       "      <th>335</th>\n",
       "      <td>Red Hat CEO Says Acquisition by IBM Will Help ...</td>\n",
       "      <td>www.wsj.com</td>\n",
       "      <td>2019-08-29</td>\n",
       "      <td>0.250000</td>\n",
       "      <td>0.250000</td>\n",
       "    </tr>\n",
       "    <tr>\n",
       "      <th>336</th>\n",
       "      <td>VMware And IBM Go Full Circle To Dominate The ...</td>\n",
       "      <td>www.forbes.com</td>\n",
       "      <td>2019-08-29</td>\n",
       "      <td>0.350000</td>\n",
       "      <td>0.550000</td>\n",
       "    </tr>\n",
       "    <tr>\n",
       "      <th>337</th>\n",
       "      <td>Why IBM\"s CIO values IT product design over \"e...</td>\n",
       "      <td>link.ciodive.com</td>\n",
       "      <td>2019-08-29</td>\n",
       "      <td>-0.500000</td>\n",
       "      <td>0.700000</td>\n",
       "    </tr>\n",
       "    <tr>\n",
       "      <th>338</th>\n",
       "      <td>VMware announces updates to its digital worksp...</td>\n",
       "      <td>www.zdnet.com</td>\n",
       "      <td>2019-08-28</td>\n",
       "      <td>0.068182</td>\n",
       "      <td>0.227273</td>\n",
       "    </tr>\n",
       "    <tr>\n",
       "      <th>339</th>\n",
       "      <td>IBM’s quantum-resistant magnetic tape storage ...</td>\n",
       "      <td>techcrunch.com</td>\n",
       "      <td>2019-08-28</td>\n",
       "      <td>0.000000</td>\n",
       "      <td>0.100000</td>\n",
       "    </tr>\n",
       "  </tbody>\n",
       "</table>\n",
       "</div>"
      ],
      "text/plain": [
       "                                              headline              site  \\\n",
       "335  Red Hat CEO Says Acquisition by IBM Will Help ...       www.wsj.com   \n",
       "336  VMware And IBM Go Full Circle To Dominate The ...    www.forbes.com   \n",
       "337  Why IBM\"s CIO values IT product design over \"e...  link.ciodive.com   \n",
       "338  VMware announces updates to its digital worksp...     www.zdnet.com   \n",
       "339  IBM’s quantum-resistant magnetic tape storage ...    techcrunch.com   \n",
       "\n",
       "           Date  polarity  subjectivity  \n",
       "335  2019-08-29  0.250000      0.250000  \n",
       "336  2019-08-29  0.350000      0.550000  \n",
       "337  2019-08-29 -0.500000      0.700000  \n",
       "338  2019-08-28  0.068182      0.227273  \n",
       "339  2019-08-28  0.000000      0.100000  "
      ]
     },
     "execution_count": 11,
     "metadata": {},
     "output_type": "execute_result"
    }
   ],
   "source": [
    "df.tail()"
   ]
  },
  {
   "cell_type": "markdown",
   "metadata": {},
   "source": [
    "### Checking whether the news headlines are for the right period "
   ]
  },
  {
   "cell_type": "code",
   "execution_count": 13,
   "metadata": {},
   "outputs": [
    {
     "name": "stdout",
     "output_type": "stream",
     "text": [
      "2019-08-28\n",
      "2020-04-24\n"
     ]
    }
   ],
   "source": [
    "print(df['Date'].min())\n",
    "print(df['Date'].max())"
   ]
  },
  {
   "cell_type": "code",
   "execution_count": 14,
   "metadata": {},
   "outputs": [
    {
     "data": {
      "text/html": [
       "<div>\n",
       "<style scoped>\n",
       "    .dataframe tbody tr th:only-of-type {\n",
       "        vertical-align: middle;\n",
       "    }\n",
       "\n",
       "    .dataframe tbody tr th {\n",
       "        vertical-align: top;\n",
       "    }\n",
       "\n",
       "    .dataframe thead th {\n",
       "        text-align: right;\n",
       "    }\n",
       "</style>\n",
       "<table border=\"1\" class=\"dataframe\">\n",
       "  <thead>\n",
       "    <tr style=\"text-align: right;\">\n",
       "      <th></th>\n",
       "      <th>polarity</th>\n",
       "      <th>subjectivity</th>\n",
       "    </tr>\n",
       "    <tr>\n",
       "      <th>Date</th>\n",
       "      <th></th>\n",
       "      <th></th>\n",
       "    </tr>\n",
       "  </thead>\n",
       "  <tbody>\n",
       "    <tr>\n",
       "      <th>2019-08-28</th>\n",
       "      <td>0.034091</td>\n",
       "      <td>0.163636</td>\n",
       "    </tr>\n",
       "    <tr>\n",
       "      <th>2019-08-29</th>\n",
       "      <td>0.033333</td>\n",
       "      <td>0.500000</td>\n",
       "    </tr>\n",
       "    <tr>\n",
       "      <th>2019-08-30</th>\n",
       "      <td>0.000000</td>\n",
       "      <td>0.000000</td>\n",
       "    </tr>\n",
       "    <tr>\n",
       "      <th>2019-08-31</th>\n",
       "      <td>0.000000</td>\n",
       "      <td>0.000000</td>\n",
       "    </tr>\n",
       "    <tr>\n",
       "      <th>2019-09-04</th>\n",
       "      <td>0.000000</td>\n",
       "      <td>0.750000</td>\n",
       "    </tr>\n",
       "  </tbody>\n",
       "</table>\n",
       "</div>"
      ],
      "text/plain": [
       "            polarity  subjectivity\n",
       "Date                              \n",
       "2019-08-28  0.034091      0.163636\n",
       "2019-08-29  0.033333      0.500000\n",
       "2019-08-30  0.000000      0.000000\n",
       "2019-08-31  0.000000      0.000000\n",
       "2019-09-04  0.000000      0.750000"
      ]
     },
     "execution_count": 14,
     "metadata": {},
     "output_type": "execute_result"
    }
   ],
   "source": [
    "#Date along with polarity and subjectivity for different headlines\n",
    "x=df.groupby(by='Date').mean()\n",
    "x.head()"
   ]
  },
  {
   "cell_type": "markdown",
   "metadata": {},
   "source": [
    "# Step 2: Pulling out the stock data for IBM using Alpha Vantage API"
   ]
  },
  {
   "cell_type": "code",
   "execution_count": 16,
   "metadata": {},
   "outputs": [],
   "source": [
    "from alpha_vantage.timeseries import TimeSeries\n",
    "import pandas as pd\n",
    "import matplotlib.pyplot as plt\n",
    "\n",
    "alpha_vantage_api_key = \"   \" #Please put your API key here by signing up on Alpha Vantage\n",
    "\n",
    "def pull_daily_time_series_alpha_vantage(alpha_vantage_api_key, ticker_name, output_size = \"compact\"):\n",
    "   \n",
    "    #Generate Alpha Vantage time series object\n",
    "    ts = TimeSeries(key = alpha_vantage_api_key, output_format = 'pandas')\n",
    "    data, meta_data = ts.get_daily_adjusted(ticker_name, outputsize = output_size)\n",
    "    data['date_time'] = data.index\n",
    "    return data, meta_data\n",
    "\n",
    "ts_data, ts_metadata = pull_daily_time_series_alpha_vantage(alpha_vantage_api_key, ticker_name = \"IBM\",output_size=\"full\") "
   ]
  },
  {
   "cell_type": "code",
   "execution_count": 17,
   "metadata": {},
   "outputs": [
    {
     "data": {
      "text/html": [
       "<div>\n",
       "<style scoped>\n",
       "    .dataframe tbody tr th:only-of-type {\n",
       "        vertical-align: middle;\n",
       "    }\n",
       "\n",
       "    .dataframe tbody tr th {\n",
       "        vertical-align: top;\n",
       "    }\n",
       "\n",
       "    .dataframe thead th {\n",
       "        text-align: right;\n",
       "    }\n",
       "</style>\n",
       "<table border=\"1\" class=\"dataframe\">\n",
       "  <thead>\n",
       "    <tr style=\"text-align: right;\">\n",
       "      <th></th>\n",
       "      <th>1. open</th>\n",
       "      <th>2. high</th>\n",
       "      <th>3. low</th>\n",
       "      <th>4. close</th>\n",
       "      <th>5. adjusted close</th>\n",
       "      <th>6. volume</th>\n",
       "      <th>7. dividend amount</th>\n",
       "      <th>8. split coefficient</th>\n",
       "      <th>date_time</th>\n",
       "    </tr>\n",
       "    <tr>\n",
       "      <th>date</th>\n",
       "      <th></th>\n",
       "      <th></th>\n",
       "      <th></th>\n",
       "      <th></th>\n",
       "      <th></th>\n",
       "      <th></th>\n",
       "      <th></th>\n",
       "      <th></th>\n",
       "      <th></th>\n",
       "    </tr>\n",
       "  </thead>\n",
       "  <tbody>\n",
       "    <tr>\n",
       "      <th>2000-04-24</th>\n",
       "      <td>102.0</td>\n",
       "      <td>107.19</td>\n",
       "      <td>101.25</td>\n",
       "      <td>106.50</td>\n",
       "      <td>70.6851</td>\n",
       "      <td>8523100.0</td>\n",
       "      <td>0.0</td>\n",
       "      <td>1.0</td>\n",
       "      <td>2000-04-24</td>\n",
       "    </tr>\n",
       "    <tr>\n",
       "      <th>2000-04-25</th>\n",
       "      <td>106.5</td>\n",
       "      <td>113.00</td>\n",
       "      <td>106.44</td>\n",
       "      <td>112.50</td>\n",
       "      <td>74.6674</td>\n",
       "      <td>9576400.0</td>\n",
       "      <td>0.0</td>\n",
       "      <td>1.0</td>\n",
       "      <td>2000-04-25</td>\n",
       "    </tr>\n",
       "    <tr>\n",
       "      <th>2000-04-26</th>\n",
       "      <td>112.5</td>\n",
       "      <td>113.94</td>\n",
       "      <td>109.00</td>\n",
       "      <td>110.50</td>\n",
       "      <td>73.3399</td>\n",
       "      <td>6182800.0</td>\n",
       "      <td>0.0</td>\n",
       "      <td>1.0</td>\n",
       "      <td>2000-04-26</td>\n",
       "    </tr>\n",
       "    <tr>\n",
       "      <th>2000-04-27</th>\n",
       "      <td>109.5</td>\n",
       "      <td>113.12</td>\n",
       "      <td>108.69</td>\n",
       "      <td>110.62</td>\n",
       "      <td>73.4196</td>\n",
       "      <td>6317500.0</td>\n",
       "      <td>0.0</td>\n",
       "      <td>1.0</td>\n",
       "      <td>2000-04-27</td>\n",
       "    </tr>\n",
       "    <tr>\n",
       "      <th>2000-04-28</th>\n",
       "      <td>112.0</td>\n",
       "      <td>112.69</td>\n",
       "      <td>110.12</td>\n",
       "      <td>111.50</td>\n",
       "      <td>74.0037</td>\n",
       "      <td>4888600.0</td>\n",
       "      <td>0.0</td>\n",
       "      <td>1.0</td>\n",
       "      <td>2000-04-28</td>\n",
       "    </tr>\n",
       "  </tbody>\n",
       "</table>\n",
       "</div>"
      ],
      "text/plain": [
       "            1. open  2. high  3. low  4. close  5. adjusted close  6. volume  \\\n",
       "date                                                                           \n",
       "2000-04-24    102.0   107.19  101.25    106.50            70.6851  8523100.0   \n",
       "2000-04-25    106.5   113.00  106.44    112.50            74.6674  9576400.0   \n",
       "2000-04-26    112.5   113.94  109.00    110.50            73.3399  6182800.0   \n",
       "2000-04-27    109.5   113.12  108.69    110.62            73.4196  6317500.0   \n",
       "2000-04-28    112.0   112.69  110.12    111.50            74.0037  4888600.0   \n",
       "\n",
       "            7. dividend amount  8. split coefficient  date_time  \n",
       "date                                                             \n",
       "2000-04-24                 0.0                   1.0 2000-04-24  \n",
       "2000-04-25                 0.0                   1.0 2000-04-25  \n",
       "2000-04-26                 0.0                   1.0 2000-04-26  \n",
       "2000-04-27                 0.0                   1.0 2000-04-27  \n",
       "2000-04-28                 0.0                   1.0 2000-04-28  "
      ]
     },
     "execution_count": 17,
     "metadata": {},
     "output_type": "execute_result"
    }
   ],
   "source": [
    "ts_data.head()"
   ]
  },
  {
   "cell_type": "markdown",
   "metadata": {},
   "source": [
    "### Keeping the columns open,close,high,low and adjusted close along with the formattted date"
   ]
  },
  {
   "cell_type": "code",
   "execution_count": 18,
   "metadata": {},
   "outputs": [],
   "source": [
    "#Dropping what is not required\n",
    "ts_data.drop(columns=['7. dividend amount','8. split coefficient','6. volume'],inplace=True)"
   ]
  },
  {
   "cell_type": "code",
   "execution_count": 19,
   "metadata": {},
   "outputs": [],
   "source": [
    "import datetime\n",
    "ts_data.columns=['open','high','low','close','adjusted_close','date']\n",
    "ts_data.reset_index(drop=True,inplace=True)\n",
    "ts_data['date']=ts_data.apply(lambda x:x['date'].date(),axis=1)\n"
   ]
  },
  {
   "cell_type": "code",
   "execution_count": 20,
   "metadata": {},
   "outputs": [
    {
     "data": {
      "text/html": [
       "<div>\n",
       "<style scoped>\n",
       "    .dataframe tbody tr th:only-of-type {\n",
       "        vertical-align: middle;\n",
       "    }\n",
       "\n",
       "    .dataframe tbody tr th {\n",
       "        vertical-align: top;\n",
       "    }\n",
       "\n",
       "    .dataframe thead th {\n",
       "        text-align: right;\n",
       "    }\n",
       "</style>\n",
       "<table border=\"1\" class=\"dataframe\">\n",
       "  <thead>\n",
       "    <tr style=\"text-align: right;\">\n",
       "      <th></th>\n",
       "      <th>open</th>\n",
       "      <th>high</th>\n",
       "      <th>low</th>\n",
       "      <th>close</th>\n",
       "      <th>adjusted_close</th>\n",
       "      <th>date</th>\n",
       "    </tr>\n",
       "  </thead>\n",
       "  <tbody>\n",
       "    <tr>\n",
       "      <th>0</th>\n",
       "      <td>102.0</td>\n",
       "      <td>107.19</td>\n",
       "      <td>101.25</td>\n",
       "      <td>106.50</td>\n",
       "      <td>70.6851</td>\n",
       "      <td>2000-04-24</td>\n",
       "    </tr>\n",
       "    <tr>\n",
       "      <th>1</th>\n",
       "      <td>106.5</td>\n",
       "      <td>113.00</td>\n",
       "      <td>106.44</td>\n",
       "      <td>112.50</td>\n",
       "      <td>74.6674</td>\n",
       "      <td>2000-04-25</td>\n",
       "    </tr>\n",
       "    <tr>\n",
       "      <th>2</th>\n",
       "      <td>112.5</td>\n",
       "      <td>113.94</td>\n",
       "      <td>109.00</td>\n",
       "      <td>110.50</td>\n",
       "      <td>73.3399</td>\n",
       "      <td>2000-04-26</td>\n",
       "    </tr>\n",
       "    <tr>\n",
       "      <th>3</th>\n",
       "      <td>109.5</td>\n",
       "      <td>113.12</td>\n",
       "      <td>108.69</td>\n",
       "      <td>110.62</td>\n",
       "      <td>73.4196</td>\n",
       "      <td>2000-04-27</td>\n",
       "    </tr>\n",
       "    <tr>\n",
       "      <th>4</th>\n",
       "      <td>112.0</td>\n",
       "      <td>112.69</td>\n",
       "      <td>110.12</td>\n",
       "      <td>111.50</td>\n",
       "      <td>74.0037</td>\n",
       "      <td>2000-04-28</td>\n",
       "    </tr>\n",
       "  </tbody>\n",
       "</table>\n",
       "</div>"
      ],
      "text/plain": [
       "    open    high     low   close  adjusted_close        date\n",
       "0  102.0  107.19  101.25  106.50         70.6851  2000-04-24\n",
       "1  106.5  113.00  106.44  112.50         74.6674  2000-04-25\n",
       "2  112.5  113.94  109.00  110.50         73.3399  2000-04-26\n",
       "3  109.5  113.12  108.69  110.62         73.4196  2000-04-27\n",
       "4  112.0  112.69  110.12  111.50         74.0037  2000-04-28"
      ]
     },
     "execution_count": 20,
     "metadata": {},
     "output_type": "execute_result"
    }
   ],
   "source": [
    "ts_data.head()"
   ]
  },
  {
   "cell_type": "code",
   "execution_count": 21,
   "metadata": {},
   "outputs": [
    {
     "name": "stdout",
     "output_type": "stream",
     "text": [
      "2000-04-24\n",
      "2020-04-24\n"
     ]
    }
   ],
   "source": [
    "#Start date and end date of stock data extracted from API\n",
    "print(ts_data['date'].min())\n",
    "print(ts_data['date'].max())"
   ]
  },
  {
   "cell_type": "markdown",
   "metadata": {},
   "source": [
    "### Filtering the stock data for the required period"
   ]
  },
  {
   "cell_type": "code",
   "execution_count": 22,
   "metadata": {},
   "outputs": [],
   "source": [
    "#Start date of the headlines and end date of the headlines\n",
    "#2019-08-24\n",
    "#2020-04-24\n",
    "\n",
    "#Creating a dataset having the dates of headlines\n",
    "from datetime import datetime\n",
    "start_date = datetime.strptime(\"2019-08-28\",'%Y-%m-%d').date()\n",
    "end_date = datetime.strptime(\"2020-04-24\",'%Y-%m-%d').date()\n",
    "\n",
    "after_start_date = ts_data[\"date\"] >= start_date\n",
    "before_end_date = ts_data[\"date\"] <= end_date\n",
    "between_two_dates = after_start_date & before_end_date\n",
    "filtered_dates = ts_data.loc[between_two_dates]"
   ]
  },
  {
   "cell_type": "code",
   "execution_count": 24,
   "metadata": {},
   "outputs": [
    {
     "data": {
      "text/html": [
       "<div>\n",
       "<style scoped>\n",
       "    .dataframe tbody tr th:only-of-type {\n",
       "        vertical-align: middle;\n",
       "    }\n",
       "\n",
       "    .dataframe tbody tr th {\n",
       "        vertical-align: top;\n",
       "    }\n",
       "\n",
       "    .dataframe thead th {\n",
       "        text-align: right;\n",
       "    }\n",
       "</style>\n",
       "<table border=\"1\" class=\"dataframe\">\n",
       "  <thead>\n",
       "    <tr style=\"text-align: right;\">\n",
       "      <th></th>\n",
       "      <th>open</th>\n",
       "      <th>high</th>\n",
       "      <th>low</th>\n",
       "      <th>close</th>\n",
       "      <th>adjusted_close</th>\n",
       "      <th>date</th>\n",
       "    </tr>\n",
       "  </thead>\n",
       "  <tbody>\n",
       "    <tr>\n",
       "      <th>4867</th>\n",
       "      <td>130.44</td>\n",
       "      <td>132.8900</td>\n",
       "      <td>130.0400</td>\n",
       "      <td>132.76</td>\n",
       "      <td>129.8450</td>\n",
       "      <td>2019-08-28</td>\n",
       "    </tr>\n",
       "    <tr>\n",
       "      <th>4868</th>\n",
       "      <td>134.18</td>\n",
       "      <td>135.6900</td>\n",
       "      <td>134.0400</td>\n",
       "      <td>134.88</td>\n",
       "      <td>131.9185</td>\n",
       "      <td>2019-08-29</td>\n",
       "    </tr>\n",
       "    <tr>\n",
       "      <th>4869</th>\n",
       "      <td>135.58</td>\n",
       "      <td>136.0700</td>\n",
       "      <td>134.3627</td>\n",
       "      <td>135.53</td>\n",
       "      <td>132.5542</td>\n",
       "      <td>2019-08-30</td>\n",
       "    </tr>\n",
       "    <tr>\n",
       "      <th>4870</th>\n",
       "      <td>134.85</td>\n",
       "      <td>134.9013</td>\n",
       "      <td>133.3301</td>\n",
       "      <td>134.10</td>\n",
       "      <td>131.1556</td>\n",
       "      <td>2019-09-03</td>\n",
       "    </tr>\n",
       "    <tr>\n",
       "      <th>4871</th>\n",
       "      <td>135.71</td>\n",
       "      <td>136.4300</td>\n",
       "      <td>135.1500</td>\n",
       "      <td>136.32</td>\n",
       "      <td>133.3268</td>\n",
       "      <td>2019-09-04</td>\n",
       "    </tr>\n",
       "  </tbody>\n",
       "</table>\n",
       "</div>"
      ],
      "text/plain": [
       "        open      high       low   close  adjusted_close        date\n",
       "4867  130.44  132.8900  130.0400  132.76        129.8450  2019-08-28\n",
       "4868  134.18  135.6900  134.0400  134.88        131.9185  2019-08-29\n",
       "4869  135.58  136.0700  134.3627  135.53        132.5542  2019-08-30\n",
       "4870  134.85  134.9013  133.3301  134.10        131.1556  2019-09-03\n",
       "4871  135.71  136.4300  135.1500  136.32        133.3268  2019-09-04"
      ]
     },
     "execution_count": 24,
     "metadata": {},
     "output_type": "execute_result"
    }
   ],
   "source": [
    "filtered_dates.head()"
   ]
  },
  {
   "cell_type": "markdown",
   "metadata": {},
   "source": [
    "### Checking whether the stock data is for the right period "
   ]
  },
  {
   "cell_type": "code",
   "execution_count": 25,
   "metadata": {},
   "outputs": [
    {
     "name": "stdout",
     "output_type": "stream",
     "text": [
      "2019-08-28\n",
      "2020-04-24\n"
     ]
    }
   ],
   "source": [
    "print(filtered_dates['date'].min())\n",
    "print(filtered_dates['date'].max())"
   ]
  },
  {
   "cell_type": "markdown",
   "metadata": {},
   "source": [
    "# Step 3: Plotting the Stock data and news headlines' polarity ,subjectivity to check relevance \n",
    "Importing the packages for plotting"
   ]
  },
  {
   "cell_type": "code",
   "execution_count": 57,
   "metadata": {},
   "outputs": [
    {
     "data": {
      "text/plain": [
       "<matplotlib.axes._subplots.AxesSubplot at 0x1c8a6d1aa58>"
      ]
     },
     "execution_count": 57,
     "metadata": {},
     "output_type": "execute_result"
    },
    {
     "data": {
      "image/png": "[encoded data removed]",
      "text/plain": [
       "<Figure size 1440x288 with 1 Axes>"
      ]
     },
     "metadata": {},
     "output_type": "display_data"
    },
    {
     "data": {
      "image/png": "[encoded data removed]",
      "text/plain": [
       "<Figure size 1440x288 with 1 Axes>"
      ]
     },
     "metadata": {},
     "output_type": "display_data"
    }
   ],
   "source": [
    "y=filtered_dates[['date','open']]\n",
    "y=y.set_index('date')\n",
    "# x has polarity and subjectivity news also\n",
    "# y has the stock data\n",
    "import seaborn as sns\n",
    "sns.set(style=\"whitegrid\",palette='Set2')\n",
    "x.plot(figsize=(20,4),sharey=True)# headlines\n",
    "y.plot(figsize=(20,4))# stock data"
   ]
  },
  {
   "cell_type": "markdown",
   "metadata": {},
   "source": [
    "## Takeaways for the plots\n",
    "\n",
    "1. The first graph shows polarity that is the sentiment using the headlines whether the price goes up or down or remains the same whereas the subjectivity in the orange shows how much confidence one can have on the predicted polarity. <br></br>\n",
    "2. The second graph shows the actual stock fluctuation according to the actual opening price stock data fetched from Alpha vantage.\n"
   ]
  },
  {
   "cell_type": "markdown",
   "metadata": {},
   "source": [
    "## Efficiency and accuracy\n",
    "The efficiency of the analysis seems to be quite good specially for a 8 months data.As you can see between the 2020-03 and 2020-04 the IBM stock crashes this is also predicted by the news just before it hits the rock bottom that too with very high subjectivity. "
   ]
  }
 ],
 "metadata": {
  "kernelspec": {
   "display_name": "Python 3",
   "language": "python",
   "name": "python3"
  },
  "language_info": {
   "codemirror_mode": {
    "name": "ipython",
    "version": 3
   },
   "file_extension": ".py",
   "mimetype": "text/x-python",
   "name": "python",
   "nbconvert_exporter": "python",
   "pygments_lexer": "ipython3",
   "version": "3.6.5"
  }
 },
 "nbformat": 4,
 "nbformat_minor": 2
}
